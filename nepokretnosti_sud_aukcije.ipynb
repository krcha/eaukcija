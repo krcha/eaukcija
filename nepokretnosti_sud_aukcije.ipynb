{
 "cells": [
  {
   "cell_type": "code",
   "execution_count": 6,
   "id": "072c9c20-64fb-424f-8fbb-f25bf267ab68",
   "metadata": {},
   "outputs": [
    {
     "name": "stdout",
     "output_type": "stream",
     "text": [
      "CSV file has been created: aukcije_nepokretnosti.csv\n"
     ]
    }
   ],
   "source": [
    "import requests\n",
    "import csv\n",
    "import pandas as pd\n",
    "\n",
    "# Constants for the request\n",
    "BASE_URL = \"https://eaukcija.sud.rs/WebApi.Proxy/api/EAukcija\"\n",
    "AUCTION_LIST_ENDPOINT = \"/GetAuctionsByCategoryId\"\n",
    "AUCTION_DETAILS_ENDPOINT = \"/GetImmovablePropertyDetails\"\n",
    "HEADERS = {\n",
    "    \"accept\": \"application/json\",\n",
    "    \"accept-language\": \"en,en-US;q=0.9,sr;q=0.8,bs;q=0.7,hr;q=0.6,fi;q=0.5\",\n",
    "    \"content-type\": \"application/json;charset=UTF-8\"\n",
    "    #\"authorization\": \"bearer YOUR_ACCESS_TOKEN\",  # Update with your actual access token\n",
    "}\n",
    "\n",
    "# Step 1: Get total count and fetch all auction data\n",
    "def fetch_auctions(category_id=\"7\"):\n",
    "    response = requests.post(f\"{BASE_URL}{AUCTION_LIST_ENDPOINT}\", json={\n",
    "        \"CategoryId\": category_id,\n",
    "        \"ItemCount\": 1,  # Request minimal data to get TotalCount\n",
    "        \"PageCount\": \"1\"\n",
    "    }, headers=HEADERS)\n",
    "    total_count = response.json().get('Data', {}).get('TotalCount', 0)\n",
    "\n",
    "    response_full = requests.post(f\"{BASE_URL}{AUCTION_LIST_ENDPOINT}\", json={\n",
    "        \"CategoryId\": category_id,\n",
    "        \"ItemCount\": total_count,\n",
    "        \"PageCount\": \"1\"\n",
    "    }, headers=HEADERS)\n",
    "    return response_full.json().get('Data', {}).get('Auctions', [])\n",
    "\n",
    "# Step 2: Fetch details for each auction\n",
    "def fetch_auction_details(auction_id):\n",
    "    response = requests.post(f\"{BASE_URL}{AUCTION_DETAILS_ENDPOINT}\", json={\n",
    "        \"AuctionId\": auction_id,\n",
    "        \"Role\": None,\n",
    "    }, headers=HEADERS)\n",
    "\n",
    "    if response.status_code == 200:\n",
    "        data = response.json().get('Data', {})\n",
    "        return {\n",
    "            \"ExecutorName\": data.get(\"ExecutorName\", \"\"),\n",
    "            \"EstimatedPrice\": data.get(\"EstimatedPrice\", \"\"),\n",
    "            \"AuctionNumber\": data.get(\"AuctionNumber\", \"\"),\n",
    "            \"Id\": data.get(\"Id\", \"\"),\n",
    "            \"Description\": data.get(\"Description\", \"\"),\n",
    "            \"NameCategory\": data.get(\"Category\", {}).get(\"Name\", \"\"),\n",
    "            \"Code\": data.get(\"Place\", {}).get(\"Code\", \"\"),\n",
    "            \"Name\": data.get(\"Place\", {}).get(\"Name\", \"\"),\n",
    "            \"ZipCode\": data.get(\"Place\", {}).get(\"ZipCode\", \"\"),\n",
    "            \"Municipality\": data.get(\"Place\", {}).get(\"Municipality\", \"\"),\n",
    "            \"Cadastral\": data.get(\"Place\", {}).get(\"Cadastral\", \"\"),\n",
    "            \"ParcelNumber\": data.get(\"Place\", {}).get(\"ParcelNumber\", \"\")\n",
    "        }\n",
    "    return {}\n",
    "\n",
    "# Step 3: Merge auction and details data\n",
    "def merge_auction_data(auctions):\n",
    "    results = []\n",
    "    for auction in auctions:\n",
    "        details = fetch_auction_details(auction['Id'])\n",
    "        if details:\n",
    "            results.append({**auction, **details})\n",
    "\n",
    "    return results\n",
    "\n",
    "# Step 4: Generate final CSV\n",
    "def generate_final_csv(merged_data, output_file='aukcije_nepokretnosti.csv'):\n",
    "    df = pd.DataFrame(merged_data)\n",
    "    df['StartingPrice/EstimatedPrice'] = df['StartingPrice'] / df['EstimatedPrice']\n",
    "    df['EstimatedPrice-StartingPrice'] = df['EstimatedPrice'] - df['StartingPrice']\n",
    "\n",
    "    new_order = [\n",
    "        'Id', 'AuctionNumber', 'StartDate', 'EndDate', 'EstimatedPrice', 'StartingPrice',\n",
    "        'StartingPrice/EstimatedPrice', 'EstimatedPrice-StartingPrice', 'IsFirstSale',\n",
    "        'PropertyType', 'ShortDescription', 'Description', 'NameCategory', 'Code', 'Name',\n",
    "        'ZipCode', 'Municipality', 'Cadastral', 'ParcelNumber', 'Status', 'StatusTranslation',\n",
    "        'NumberOfVerifiedUsers', 'ExecutorName', 'MaxOfferedPrice', 'CurrentPrice'\n",
    "    ]\n",
    "    df = df[new_order]\n",
    "    df.to_csv(output_file, index=False, encoding='utf-8-sig')\n",
    "    print(f\"CSV file has been created: {output_file}\")\n",
    "\n",
    "# Main Execution\n",
    "auctions = fetch_auctions()\n",
    "merged_data = merge_auction_data(auctions)\n",
    "generate_final_csv(merged_data)\n"
   ]
  },
  {
   "cell_type": "markdown",
   "id": "635f13ad-ea8d-4aad-b234-71850bc04347",
   "metadata": {
    "jp-MarkdownHeadingCollapsed": true
   },
   "source": [
    "## SEGMENTS"
   ]
  },
  {
   "cell_type": "markdown",
   "id": "8059e8cc-b4f5-4634-9711-31802b652498",
   "metadata": {},
   "source": [
    "get data in json nepokretnosti"
   ]
  },
  {
   "cell_type": "code",
   "execution_count": 1,
   "id": "de339a7e-7e8c-4ac8-95e7-498289016f9e",
   "metadata": {},
   "outputs": [
    {
     "name": "stdout",
     "output_type": "stream",
     "text": [
      "Output saved as 1_aukcije_nepokretnosti.json\n"
     ]
    }
   ],
   "source": [
    "import requests\n",
    "import json\n",
    "\n",
    "# Initial setup: URL and headers\n",
    "url = \"https://eaukcija.sud.rs/WebApi.Proxy/api/EAukcija/GetAuctionsByCategoryId\"\n",
    "headers = {\n",
    "    \"accept\": \"application/json\",\n",
    "    \"accept-language\": \"en,en-US;q=0.9,sr;q=0.8,bs;q=0.7,hr;q=0.6,fi;q=0.5\",\n",
    "    \"content-type\": \"application/json;charset=UTF-8\",\n",
    "}\n",
    "\n",
    "# First request: determine TotalCount\n",
    "initial_data = {\n",
    "    \"CategoryId\": \"7\",\n",
    "    \"ItemCount\": 1,  # Minimal item count to reduce initial load\n",
    "    \"PageCount\": \"1\",\n",
    "}\n",
    "response = requests.post(url, json=initial_data, headers=headers)\n",
    "total_count = response.json().get('Data', {}).get('TotalCount', 0)\n",
    "\n",
    "# Second request: use TotalCount as ItemCount to fetch all auctions\n",
    "full_data = {\n",
    "    \"CategoryId\": \"7\",\n",
    "    \"ItemCount\": total_count,  # Set ItemCount to TotalCount\n",
    "    \"PageCount\": \"1\",\n",
    "}\n",
    "response_full = requests.post(url, json=full_data, headers=headers)\n",
    "auctions_full = response_full.json().get('Data', {}).get('Auctions', [])\n",
    "\n",
    "# Remove the 'Thumbnail' field from each auction\n",
    "for auction in auctions_full:\n",
    "    if 'Thumbnail' in auction:\n",
    "        del auction['Thumbnail']\n",
    "\n",
    "# Save the output as a JSON file named '1_aukcije_nepokretnosti.json'\n",
    "json_file_path = '1_aukcije_nepokretnosti.json'  # Adjust the path as needed\n",
    "with open(json_file_path, 'w', encoding='utf-8') as json_file:\n",
    "    # Save the modified auctions data without the Thumbnail field\n",
    "    json.dump({'TotalCount': total_count, 'Auctions': auctions_full}, json_file, ensure_ascii=False, indent=4)\n",
    "\n",
    "print(f\"Output saved as {json_file_path}\")\n"
   ]
  },
  {
   "cell_type": "markdown",
   "id": "7ac4e529-3ee8-486b-b289-547cd094b2b3",
   "metadata": {},
   "source": [
    "konvert to csv 1_aukcije_nepokretnosti.json"
   ]
  },
  {
   "cell_type": "code",
   "execution_count": 2,
   "id": "dd11a03f-9198-4b61-b1dd-a840353b000f",
   "metadata": {},
   "outputs": [
    {
     "name": "stdout",
     "output_type": "stream",
     "text": [
      "CSV file has been created: 1_aukcije_nepokretnosti.csv\n"
     ]
    }
   ],
   "source": [
    "import json\n",
    "import csv\n",
    "\n",
    "# Read the JSON file\n",
    "json_file_path = '1_aukcije_nepokretnosti.json'\n",
    "with open(json_file_path, 'r', encoding='utf-8-sig') as json_file:\n",
    "    data = json.load(json_file)\n",
    "\n",
    "# Extract auctions data, ensure 'Thumbnail' field is excluded\n",
    "auctions = data['Auctions']\n",
    "for auction in auctions:\n",
    "    if 'Thumbnail' in auction:\n",
    "        del auction['Thumbnail']\n",
    "\n",
    "# Manually specify the fieldnames to include all desired fields\n",
    "fieldnames = [\n",
    "    'Id', 'AuctionNumber', 'StartDate', 'EndDate', 'MaxOfferedPrice', 'CurrentPrice',\n",
    "    'StartingPrice', 'ShortDescription', 'Status', 'StatusTranslation', 'NumberOfVerifiedUsers',\n",
    "    'IsFirstSale', 'PropertyType'  # Add any other fields you need\n",
    "]\n",
    "\n",
    "# Write the data to a CSV file\n",
    "csv_file_path = '1_aukcije_nepokretnosti.csv'\n",
    "with open(csv_file_path, mode='w', newline='', encoding='utf-8-sig') as csv_file:\n",
    "    writer = csv.DictWriter(csv_file, fieldnames=fieldnames)\n",
    "    writer.writeheader()\n",
    "    for auction in auctions:\n",
    "        # Fill missing fields with a default value (e.g., None or '')\n",
    "        row = {field: auction.get(field, None) for field in fieldnames}\n",
    "        writer.writerow(row)\n",
    "\n",
    "print(f\"CSV file has been created: {csv_file_path}\")\n"
   ]
  },
  {
   "cell_type": "markdown",
   "id": "6d7622cd-48ff-4e06-a048-01525c215813",
   "metadata": {},
   "source": [
    "get details for each Id Iteracija Id iz csv fajla 1_aukcije_nepokretnosti cuva u collected_data.json and collected_data.csv"
   ]
  },
  {
   "cell_type": "code",
   "execution_count": 3,
   "id": "9068bc52-e027-4e7d-9210-1455d88dca04",
   "metadata": {},
   "outputs": [
    {
     "name": "stdout",
     "output_type": "stream",
     "text": [
      "All data saved to 2_details_data.json and 2_details_data.csv\n"
     ]
    }
   ],
   "source": [
    "import csv\n",
    "import requests\n",
    "import json\n",
    "\n",
    "def remove_base64_fields(data):\n",
    "    \"\"\"Recursively remove Base64 fields from response data.\"\"\"\n",
    "    if isinstance(data, dict):\n",
    "        return {key: remove_base64_fields(value) for key, value in data.items() if key.lower() != 'base64'}\n",
    "    elif isinstance(data, list):\n",
    "        return [remove_base64_fields(item) for item in data]\n",
    "    else:\n",
    "        return data\n",
    "\n",
    "def process_auction_id(auction_id, headers):\n",
    "    \"\"\"Process a single auction ID to fetch, clean, and extract relevant data.\"\"\"\n",
    "    url = \"https://eaukcija.sud.rs/WebApi.Proxy/api/EAukcija/GetImmovablePropertyDetails\"\n",
    "    data_payload = {\n",
    "        \"AuctionId\": auction_id,\n",
    "        \"Role\": None,\n",
    "    }\n",
    "    response = requests.post(url, headers=headers, json=data_payload)\n",
    "    \n",
    "    if response.status_code == 200:\n",
    "        cleaned_data = remove_base64_fields(response.json())\n",
    "        \n",
    "        if 'Data' in cleaned_data:\n",
    "            data_section = cleaned_data['Data']\n",
    "            executor_name = data_section.get(\"ExecutorName\", \"\")\n",
    "            estimated_price = data_section.get(\"EstimatedPrice\", \"\")\n",
    "            auction_number = data_section.get(\"AuctionNumber\", \"\")\n",
    "            description = data_section.get(\"Description\", \"\")\n",
    "            response_auction_id = data_section.get(\"Id\", \"\")\n",
    "            category_data = data_section.get(\"Category\", {})\n",
    "            category_section = {\n",
    "                \"NameCategory\": category_data.get(\"Name\", \"\")\n",
    "            }\n",
    "            place_data = data_section.get(\"Place\", {})\n",
    "            place_section = {\n",
    "                \"Code\": place_data.get(\"Code\", \"\"),\n",
    "                \"Name\": place_data.get(\"Name\", \"\"),\n",
    "                \"ZipCode\": place_data.get(\"ZipCode\", \"\"),\n",
    "                \"Municipality\": place_data.get(\"Municipality\", \"\"),\n",
    "                \"Cadastral\": place_data.get(\"Cadastral\", \"\"),\n",
    "                \"ParcelNumber\": place_data.get(\"ParcelNumber\", \"\")\n",
    "            }\n",
    "            return {\n",
    "                \"ExecutorName\": executor_name,\n",
    "                \"EstimatedPrice\": estimated_price,\n",
    "                \"AuctionNumber\": auction_number,\n",
    "                \"Id\": response_auction_id,  # Use a different variable name if necessary\n",
    "                \"Description\": description,\n",
    "                **place_section,  # Merge dictionaries for flat structure\n",
    "                **category_section\n",
    "            }\n",
    "    else:\n",
    "        print(f\"Failed to process AuctionId: {auction_id}, Status Code: {response.status_code}\")\n",
    "        return {}\n",
    "\n",
    "# File paths\n",
    "csv_file_path = '1_aukcije_nepokretnosti.csv'\n",
    "json_file_path = '2_details_data.json'\n",
    "output_csv_file_path = '2_details_data.csv'\n",
    "\n",
    "results = []\n",
    "headers = {\n",
    "    \"accept\": \"application/json\",\n",
    "    \"accept-language\": \"en,en-US;q=0.9,sr;q=0.8,bs;q=0.7,hr;q=0.6,fi;q=0.5\",\n",
    "    \"content-type\": \"application/json;charset=UTF-8\",\n",
    "    # Replace with your actual token\n",
    "    \"authorization\": \"bearer YOUR_ACCESS_TOKEN\",\n",
    "}\n",
    "\n",
    "with open(csv_file_path, newline='', encoding='utf-8-sig') as csvfile:\n",
    "    reader = csv.DictReader(csvfile)\n",
    "    for row in reader:\n",
    "        auction_id = row['Id']\n",
    "        data = process_auction_id(auction_id, headers)\n",
    "        if data:  # Only add if data is successfully returned\n",
    "            results.append(data)\n",
    "        else:\n",
    "            print(f\"No data for AuctionId: {auction_id}\")\n",
    "\n",
    "# Save results to a JSON file\n",
    "with open(json_file_path, 'w', encoding='utf-8') as json_file:\n",
    "    json.dump(results, json_file, ensure_ascii=False, indent=4)\n",
    "\n",
    "# Save results to a CSV file\n",
    "with open(output_csv_file_path, mode='w', newline='', encoding='utf-8-sig') as file:\n",
    "    fieldnames = ['NameCategory', 'ExecutorName', 'AuctionNumber','EstimatedPrice', 'Id', 'Description', 'Code', 'Name', 'ZipCode', 'Municipality', 'Cadastral', 'ParcelNumber']\n",
    "    writer = csv.DictWriter(file, fieldnames=fieldnames)\n",
    "    writer.writeheader()\n",
    "    writer.writerows(results)\n",
    "\n",
    "print(f\"All data saved to {json_file_path} and {output_csv_file_path}\")\n"
   ]
  },
  {
   "cell_type": "markdown",
   "id": "ba9a6d8a-542a-46fe-b6e3-70daef3e0102",
   "metadata": {},
   "source": [
    "join 2_details_data and 1_auckije_nepokretnosti csv"
   ]
  },
  {
   "cell_type": "code",
   "execution_count": 4,
   "id": "01ec36e5-f891-4d0a-b07d-bda405dfcc19",
   "metadata": {},
   "outputs": [
    {
     "name": "stdout",
     "output_type": "stream",
     "text": [
      "3_sa_detaljima_aukcije_nepokretnosti.csv\n"
     ]
    }
   ],
   "source": [
    "import pandas as pd\n",
    "\n",
    "# Load the two CSV files with utf-8-sig encoding to ensure proper handling of special characters\n",
    "aukcije_nepokretnosti = pd.read_csv('1_aukcije_nepokretnosti.csv', encoding='utf-8-sig')\n",
    "details_data = pd.read_csv('2_details_data.csv', encoding='utf-8-sig')\n",
    "\n",
    "# Join the two CSV files on the 'Id' column\n",
    "merged_data = pd.merge(aukcije_nepokretnosti, details_data, on='Id', how='left')\n",
    "\n",
    "# Save the merged data to a new CSV file, using utf-8-sig encoding\n",
    "output_file_path = '3_sa_detaljima_aukcije_nepokretnosti.csv'\n",
    "merged_data.to_csv(output_file_path, index=False, encoding='utf-8-sig')\n",
    "\n",
    "print(output_file_path)\n"
   ]
  },
  {
   "cell_type": "code",
   "execution_count": 5,
   "id": "6bd3054a-3a9c-4e36-8297-67cc67393ae6",
   "metadata": {},
   "outputs": [
    {
     "name": "stdout",
     "output_type": "stream",
     "text": [
      "3_sa_detaljima_aukcije_nepokretnosti.csv\n"
     ]
    }
   ],
   "source": [
    "import pandas as pd\n",
    "\n",
    "# Load your CSV file\n",
    "df = pd.read_csv('3_sa_detaljima_aukcije_nepokretnosti.csv', encoding='utf-8-sig')\n",
    "\n",
    "# Calculate new columns\n",
    "df['StartingPrice/EstimatedPrice'] = df['StartingPrice'] / df['EstimatedPrice']\n",
    "df['EstimatedPrice-StartingPrice'] = df['EstimatedPrice'] - df['StartingPrice']\n",
    "\n",
    "# Define the new order of the columns\n",
    "new_order = [\n",
    "    'Id', 'AuctionNumber_x', 'StartDate', 'EndDate', 'EstimatedPrice', 'StartingPrice',\n",
    "    'StartingPrice/EstimatedPrice', 'EstimatedPrice-StartingPrice', 'IsFirstSale',\n",
    "    'PropertyType', 'ShortDescription', 'Description', 'NameCategory', 'Code', 'Name',\n",
    "    'ZipCode', 'Municipality', 'Cadastral', 'ParcelNumber', 'Status', 'StatusTranslation',\n",
    "    'NumberOfVerifiedUsers', 'ExecutorName', 'MaxOfferedPrice', 'CurrentPrice'\n",
    "]\n",
    "\n",
    "# Reorder the dataframe according to the new_order list\n",
    "# Make sure all columns in new_order exist in your dataframe. If not, adjust the list accordingly.\n",
    "df = df[new_order]\n",
    "\n",
    "# Save the modified dataframe back to CSV\n",
    "df.to_csv('3_sa_detaljima_aukcije_nepokretnosti.csv', index=False, encoding='utf-8-sig')\n",
    "\n",
    "print(output_file_path)\n"
   ]
  },
  {
   "cell_type": "code",
   "execution_count": null,
   "id": "f17ca16d-cbbb-4959-a136-8cb22ddfd0b8",
   "metadata": {},
   "outputs": [],
   "source": []
  }
 ],
 "metadata": {
  "kernelspec": {
   "display_name": "Python 3 (ipykernel)",
   "language": "python",
   "name": "python3"
  },
  "language_info": {
   "codemirror_mode": {
    "name": "ipython",
    "version": 3
   },
   "file_extension": ".py",
   "mimetype": "text/x-python",
   "name": "python",
   "nbconvert_exporter": "python",
   "pygments_lexer": "ipython3",
   "version": "3.9.18"
  }
 },
 "nbformat": 4,
 "nbformat_minor": 5
}
